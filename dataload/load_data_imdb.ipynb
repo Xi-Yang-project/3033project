{
 "cells": [
  {
   "cell_type": "markdown",
   "metadata": {},
   "source": [
    "# Loading data from IMDB-WIKI dataset"
   ]
  },
  {
   "cell_type": "markdown",
   "metadata": {},
   "source": [
    "## config"
   ]
  },
  {
   "cell_type": "code",
   "execution_count": 8,
   "metadata": {},
   "outputs": [],
   "source": [
    "IMAGE_SIZE = 56\n",
    "min_score = 1.0"
   ]
  },
  {
   "cell_type": "markdown",
   "metadata": {},
   "source": [
    "## utils"
   ]
  },
  {
   "cell_type": "code",
   "execution_count": 4,
   "metadata": {},
   "outputs": [],
   "source": [
    "from scipy.io import loadmat\n",
    "from datetime import datetime\n",
    "import os\n",
    "import numpy as np\n",
    "import cv2\n",
    "from tqdm import tqdm\n",
    "from pathlib import Path\n",
    "\n",
    "\n",
    "def calc_age(taken, dob):\n",
    "    birth = datetime.fromordinal(max(int(dob) - 366, 1))\n",
    "\n",
    "    # assume the photo was taken in the middle of the year\n",
    "    if birth.month < 7:\n",
    "        return taken - birth.year\n",
    "    else:\n",
    "        return taken - birth.year - 1\n",
    "\n",
    "\n",
    "def get_meta(mat_path, db):\n",
    "    meta = loadmat(mat_path)\n",
    "    full_path = meta[db][0, 0][\"full_path\"][0]\n",
    "    dob = meta[db][0, 0][\"dob\"][0]  # Matlab serial date number\n",
    "    gender = meta[db][0, 0][\"gender\"][0]\n",
    "    photo_taken = meta[db][0, 0][\"photo_taken\"][0]  # year\n",
    "    face_score = meta[db][0, 0][\"face_score\"][0]\n",
    "    second_face_score = meta[db][0, 0][\"second_face_score\"][0]\n",
    "    age = [calc_age(photo_taken[i], dob[i]) for i in range(len(dob))]\n",
    "    face_location = meta[db][0, 0][\"face_location\"]\n",
    "    return full_path, dob, gender, photo_taken, face_score, second_face_score, age, np.squeeze(face_location)\n",
    "\n",
    "\n",
    "def load_data(mat_path):\n",
    "    d = loadmat(mat_path)\n",
    "\n",
    "    return d[\"image\"], d[\"gender\"][0], d[\"age\"][0], d[\"db\"][0], d[\"img_size\"][0, 0], d[\"min_score\"][0, 0]\n"
   ]
  },
  {
   "cell_type": "markdown",
   "metadata": {},
   "source": [
    "## read data and create database"
   ]
  },
  {
   "cell_type": "code",
   "execution_count": 9,
   "metadata": {},
   "outputs": [],
   "source": [
    "db = 'imdb'\n",
    "root_path = \"./{}_crop/\".format(db)\n",
    "mat_path = root_path + \"{}.mat\".format(db)\n",
    "full_path, dob, gender, photo_taken, face_score, second_face_score, age, face_location = get_meta(mat_path, db)"
   ]
  },
  {
   "cell_type": "code",
   "execution_count": 15,
   "metadata": {},
   "outputs": [],
   "source": [
    "sample_num = len(face_score)\n",
    "valid_sample_num = 0"
   ]
  },
  {
   "cell_type": "code",
   "execution_count": 26,
   "metadata": {},
   "outputs": [
    {
     "name": "stderr",
     "output_type": "stream",
     "text": [
      "100%|██████████| 460723/460723 [12:02<00:00, 637.69it/s] "
     ]
    },
    {
     "name": "stdout",
     "output_type": "stream",
     "text": [
      "343348\n"
     ]
    },
    {
     "name": "stderr",
     "output_type": "stream",
     "text": [
      "\n"
     ]
    }
   ],
   "source": [
    "# create database from WIKI Dataset\n",
    "for i in tqdm(range(sample_num)):\n",
    "    if face_score[i] < min_score:\n",
    "        continue\n",
    "\n",
    "    if (~np.isnan(second_face_score[i])) and second_face_score[i] > 0.0:\n",
    "        continue\n",
    "\n",
    "    if ~(0 <= age[i] <= 100):\n",
    "        continue\n",
    "\n",
    "    if np.isnan(gender[i]):\n",
    "        continue\n",
    "\n",
    "    if age[i] >= 86:\n",
    "        continue\n",
    "    if age[i] <= 0:\n",
    "        continue\n",
    "\n",
    "    img = cv2.imread(root_path + str(full_path[i][0]))\n",
    "\n",
    "    if int(gender[i]) == 0:\n",
    "        label_gender = 1\n",
    "    else:\n",
    "        label_gender = 0\n",
    "    cv2.imwrite('./crop/' + str(age[i]) + '_' + str(label_gender) + '_' + str(i) + '.jpg', img)\n",
    "\n",
    "    valid_sample_num += 1\n",
    "print(valid_sample_num)"
   ]
  },
  {
   "cell_type": "markdown",
   "metadata": {},
   "source": [
    "## Create data 3 age classes"
   ]
  },
  {
   "cell_type": "code",
   "execution_count": 68,
   "metadata": {},
   "outputs": [],
   "source": [
    "def create_data_3():\n",
    "    img_dir = Path('./crop/')\n",
    "    img_size = IMAGE_SIZE\n",
    "    num1_26 = 0\n",
    "    num27_52 = 0\n",
    "    num53_80 = 0\n",
    "    male = 0\n",
    "    female = 0\n",
    "    data = []\n",
    "    for img_path in tqdm(img_dir.glob('*.jpg')):\n",
    "        name = img_path.name  # [age]_[gender]_[race]_[date&time].jpg\n",
    "        age, gender = name.split('_')[:2]\n",
    "        img = cv2.imread(str(img_path))\n",
    "\n",
    "        age = int(age)\n",
    "        if age >= 81:\n",
    "            continue\n",
    "\n",
    "        if 1 <= age <= 26:\n",
    "            num1_26 += 1\n",
    "            label_age = 0\n",
    "        elif 27 <= age <= 52:\n",
    "            num27_52 += 1\n",
    "            label_age = 1\n",
    "        else:\n",
    "            num53_80 += 1\n",
    "            label_age = 2\n",
    "\n",
    "        label_gender = int(gender)\n",
    "\n",
    "        if label_gender == 0:\n",
    "            male += 1\n",
    "        else:\n",
    "            female += 1\n",
    "\n",
    "        img = cv2.resize(img, (img_size, img_size), cv2.INTER_AREA)\n",
    "        data.append((img, label_age, label_gender))\n",
    "\n",
    "    print('Number of data')\n",
    "    print('1-26: ', num1_26)\n",
    "    print('27-52: ', num27_52)\n",
    "    print('53-80: ', num53_80)\n",
    "    print('male: ', male)\n",
    "    print('female: ', female)\n",
    "    with open('data_3.npy','wb') as f:\n",
    "        np.save(f, data)"
   ]
  },
  {
   "cell_type": "code",
   "execution_count": 44,
   "metadata": {},
   "outputs": [
    {
     "name": "stderr",
     "output_type": "stream",
     "text": [
      "171674it [07:03, 405.12it/s]\n"
     ]
    },
    {
     "name": "stdout",
     "output_type": "stream",
     "text": [
      "Number of data\n",
      "1-26:  38514\n",
      "27-52:  113914\n",
      "53-80:  18890\n",
      "male:  93379\n",
      "female:  77939\n"
     ]
    }
   ],
   "source": [
    "create_data_3()"
   ]
  },
  {
   "cell_type": "markdown",
   "metadata": {},
   "source": [
    "## Create data 5 age classes"
   ]
  },
  {
   "cell_type": "code",
   "execution_count": 92,
   "metadata": {},
   "outputs": [],
   "source": [
    "def create_data_5():\n",
    "    img_dir = Path('./crop/')\n",
    "    img_size = IMAGE_SIZE\n",
    "    num1_13 = 0\n",
    "    num14_23 = 0\n",
    "    num24_39 = 0\n",
    "    num40_55 = 0\n",
    "    num56_80 = 0\n",
    "    male = 0\n",
    "    female = 0\n",
    "    data = []\n",
    "    for img_path in tqdm(img_dir.glob('*.jpg')):\n",
    "        name = img_path.name    # [age]_[gender]_[race]_[date&time].jpg\n",
    "        age, gender = name.split('_')[:2]\n",
    "\n",
    "        img = cv2.imread(str(img_path))\n",
    "        age = int(age)\n",
    "\n",
    "        if 1 <= age <= 11:\n",
    "            num1_13 += 1\n",
    "            label_age = 0\n",
    "        elif 12 <= age <= 23:\n",
    "            num14_23 += 1\n",
    "            label_age = 1\n",
    "        elif 24 <= age <= 39:\n",
    "            num24_39 += 1\n",
    "            label_age = 2\n",
    "        elif 40 <= age <= 55:\n",
    "            num40_55 += 1\n",
    "            label_age = 3\n",
    "        else:\n",
    "            num56_80 += 1\n",
    "            label_age = 4\n",
    "\n",
    "        label_gender = int(gender)\n",
    "        if label_gender == 3:\n",
    "            label_gender = 1\n",
    "        if label_gender == 0:\n",
    "            male += 1\n",
    "        else:\n",
    "            female += 1\n",
    "\n",
    "        label_gender = int(gender)\n",
    "        if label_gender == 3:\n",
    "            label_gender = 1\n",
    "        img = cv2.resize(img, (img_size, img_size), cv2.INTER_AREA)\n",
    "        data.append((img, label_age, label_gender))\n",
    "\n",
    "    print('Number of data')\n",
    "    print('1-13: ', num1_13)\n",
    "    print('14-23: ', num14_23)\n",
    "    print('24-39: ', num24_39)\n",
    "    print('40-55: ', num40_55)\n",
    "    print('56-80: ', num56_80)\n",
    "    print('male: ', male)\n",
    "    print('female: ', female)\n",
    "\n",
    "    with open('data_5.npy','wb') as f:\n",
    "        np.save(f, data)"
   ]
  },
  {
   "cell_type": "code",
   "execution_count": 93,
   "metadata": {},
   "outputs": [
    {
     "name": "stderr",
     "output_type": "stream",
     "text": [
      "171674it [07:20, 389.47it/s]\n"
     ]
    },
    {
     "name": "stdout",
     "output_type": "stream",
     "text": [
      "Number of data\n",
      "1-13:  1849\n",
      "14-23:  22454\n",
      "24-39:  87446\n",
      "40-55:  45170\n",
      "56-80:  14755\n",
      "male:  93623\n",
      "female:  78051\n"
     ]
    }
   ],
   "source": [
    "create_data_5()"
   ]
  },
  {
   "cell_type": "markdown",
   "metadata": {},
   "source": [
    "## Create data 10 age classes"
   ]
  },
  {
   "cell_type": "code",
   "execution_count": 71,
   "metadata": {},
   "outputs": [],
   "source": [
    "def create_data_10():\n",
    "    img_dir = Path('./crop/')\n",
    "    img_size = IMAGE_SIZE\n",
    "    num1_8 = 0\n",
    "    num9_16 = 0\n",
    "    num17_24 = 0\n",
    "    num25_32 = 0\n",
    "    num33_40 = 0\n",
    "    num41_48 = 0\n",
    "    num49_56 = 0\n",
    "    num57_64 = 0\n",
    "    num65_72 = 0\n",
    "    num73_80 = 0\n",
    "    \n",
    "    male = 0\n",
    "    female = 0\n",
    "    data = []\n",
    "    for img_path in tqdm(img_dir.glob('*.jpg')):\n",
    "        name = img_path.name  # [age]_[gender]_[race]_[date&time].jpg\n",
    "        age, gender = name.split('_')[:2]\n",
    "        img = cv2.imread(str(img_path))\n",
    "\n",
    "        age = int(age)\n",
    "        if age >= 81:\n",
    "            continue\n",
    "            \n",
    "\n",
    "        if 1 <= age <= 8:\n",
    "            num1_8 += 1\n",
    "            label_age = 0\n",
    "        elif 9 <= age <= 16:\n",
    "            num9_16 += 1\n",
    "            label_age = 1\n",
    "        elif 17 <= age <= 24:\n",
    "            num17_24 += 1\n",
    "            label_age = 2\n",
    "        elif 25 <= age <= 32:\n",
    "            num25_32 += 1\n",
    "            label_age = 3\n",
    "        elif 33 <= age <= 40:\n",
    "            num33_40 += 1\n",
    "            label_age = 4\n",
    "        elif 41 <= age <= 48:\n",
    "            num41_48 += 1\n",
    "            label_age = 5\n",
    "        elif 49 <= age <= 56:\n",
    "            num49_56 += 1\n",
    "            label_age = 6  \n",
    "        elif 57 <= age <= 64:\n",
    "            num57_64 += 1\n",
    "            label_age = 7   \n",
    "        elif 65 <= age <= 72:\n",
    "            num65_72 += 1\n",
    "            label_age = 8      \n",
    "        else:\n",
    "            num73_80 += 1\n",
    "            label_age = 9\n",
    "\n",
    "        label_gender = int(gender)\n",
    "        if label_gender == 3:\n",
    "            label_gender = 1\n",
    "\n",
    "        if label_gender == 0:\n",
    "            male += 1\n",
    "        else:\n",
    "            female += 1\n",
    "\n",
    "        img = cv2.resize(img, (img_size, img_size), cv2.INTER_AREA)\n",
    "        data.append((img, label_age, label_gender))\n",
    "\n",
    "    print('Number of training data')\n",
    "    print('1_8: ', num1_8)\n",
    "    print('9_16: ', num9_16)\n",
    "    print('17_24: ', num17_24)\n",
    "    print('25_32: ', num25_32)\n",
    "    print('33_40: ', num33_40)\n",
    "    print('41_48: ', num41_48)\n",
    "    print('49_56: ', num49_56)\n",
    "    print('57_64: ', num57_64)\n",
    "    print('65_72: ', num65_72)\n",
    "    print('73_80: ', num73_80)\n",
    "    \n",
    "    print('male: ', male)\n",
    "    print('female: ', female)\n",
    "    with open('data_10.npy','wb') as f:\n",
    "        np.save(f, data)"
   ]
  },
  {
   "cell_type": "code",
   "execution_count": 72,
   "metadata": {},
   "outputs": [
    {
     "name": "stderr",
     "output_type": "stream",
     "text": [
      "171674it [07:11, 397.57it/s]\n"
     ]
    },
    {
     "name": "stdout",
     "output_type": "stream",
     "text": [
      "Number of training data\n",
      "1_8:  639\n",
      "9_16:  5376\n",
      "17_24:  22922\n",
      "25_32:  44130\n",
      "33_40:  43005\n",
      "41_48:  27983\n",
      "49_56:  14050\n",
      "57_64:  7995\n",
      "65_72:  3694\n",
      "73_80:  1524\n",
      "male:  93379\n",
      "female:  77939\n"
     ]
    }
   ],
   "source": [
    "create_data_10()"
   ]
  },
  {
   "cell_type": "markdown",
   "metadata": {},
   "source": [
    "## Create data age class = 20"
   ]
  },
  {
   "cell_type": "code",
   "execution_count": 78,
   "metadata": {},
   "outputs": [],
   "source": [
    "def create_data_20():\n",
    "    img_dir = Path('./crop/')\n",
    "    img_size = IMAGE_SIZE\n",
    "    num1_4 = 0\n",
    "    num5_8 = 0\n",
    "    num9_12 = 0\n",
    "    num13_16 = 0\n",
    "    num17_20 = 0\n",
    "    num21_24 = 0\n",
    "    num25_28 = 0\n",
    "    num29_32 = 0\n",
    "    num33_36 = 0\n",
    "    num37_40 = 0\n",
    "    num41_44 = 0\n",
    "    num45_48 = 0\n",
    "    num49_52 = 0\n",
    "    num53_56 = 0\n",
    "    num57_60 = 0\n",
    "    num61_64 = 0\n",
    "    num65_68 = 0\n",
    "    num69_72 = 0\n",
    "    num73_76 = 0\n",
    "    num77_80 = 0\n",
    "    \n",
    "    male = 0\n",
    "    female = 0\n",
    "    data = []\n",
    "    for img_path in tqdm(img_dir.glob('*.jpg')):\n",
    "        name = img_path.name  # [age]_[gender]_[race]_[date&time].jpg\n",
    "        age, gender = name.split('_')[:2]\n",
    "        img = cv2.imread(str(img_path))\n",
    "\n",
    "        age = int(age)\n",
    "        if age >= 81:\n",
    "            continue\n",
    "\n",
    "        if 1 <= age <= 4:\n",
    "            num1_4 += 1\n",
    "            label_age = 0\n",
    "        elif 5 <= age <= 8:\n",
    "            num5_8 += 1\n",
    "            label_age = 1\n",
    "        elif 9 <= age <= 12:\n",
    "            num9_12 += 1\n",
    "            label_age = 2\n",
    "        elif 13 <= age <= 16:\n",
    "            num13_16 += 1\n",
    "            label_age = 3\n",
    "        elif 17 <= age <= 20:\n",
    "            num17_20 += 1\n",
    "            label_age = 4\n",
    "        elif 21 <= age <= 24:\n",
    "            num21_24 += 1\n",
    "            label_age = 5\n",
    "        elif 25 <= age <= 28:\n",
    "            num25_28 += 1\n",
    "            label_age = 6  \n",
    "        elif 29 <= age <= 32:\n",
    "            num29_32 += 1\n",
    "            label_age = 7   \n",
    "        elif 33 <= age <= 36:\n",
    "            num33_36 += 1\n",
    "            label_age = 8  \n",
    "            \n",
    "        elif 37 <= age <= 40:\n",
    "            num37_40 += 1\n",
    "            label_age = 9\n",
    "        elif 41 <= age <= 44:\n",
    "            num41_44 += 1\n",
    "            label_age = 10\n",
    "        elif 45 <= age <= 48:\n",
    "            num45_48 += 1\n",
    "            label_age = 11  \n",
    "        elif 49 <= age <= 52:\n",
    "            num49_52 += 1\n",
    "            label_age = 12   \n",
    "        elif 53 <= age <= 56:\n",
    "            num53_56 += 1\n",
    "            label_age = 13   \n",
    "        elif 57 <= age <= 60:\n",
    "            num57_60 += 1\n",
    "            label_age = 14      \n",
    "        elif 61 <= age <= 64:\n",
    "            num61_64 += 1\n",
    "            label_age = 15\n",
    "        elif 65 <= age <= 68:\n",
    "            num65_68 += 1\n",
    "            label_age = 16\n",
    "        elif 69 <= age <= 72:\n",
    "            num69_72 += 1\n",
    "            label_age = 17\n",
    "        elif 73 <= age <= 76:\n",
    "            num73_76 += 1\n",
    "            label_age = 18    \n",
    "        else:\n",
    "            num77_80 += 1\n",
    "            label_age = 19\n",
    "\n",
    "        label_gender = int(gender)\n",
    "\n",
    "\n",
    "        if label_gender == 0:\n",
    "            male += 1\n",
    "        else:\n",
    "            female += 1\n",
    "\n",
    "        img = cv2.resize(img, (img_size, img_size), cv2.INTER_AREA)\n",
    "        data.append((img, label_age, label_gender))\n",
    "\n",
    "    print('Number of training data')\n",
    "    print('1_4: ', num1_4)\n",
    "    print('5_8: ', num5_8)\n",
    "    print('9_12: ', num9_12)\n",
    "    print('13_16: ', num13_16)\n",
    "    print('17_20: ', num17_20)\n",
    "    print('21_24: ', num21_24)\n",
    "    print('25_28: ', num25_28)\n",
    "    print('29_32: ', num29_32)\n",
    "    print('33_36: ', num33_36)\n",
    "    print('37_40: ', num37_40)\n",
    "    print('41_44: ', num41_44)\n",
    "    print('45_48: ', num45_48)\n",
    "    print('49_52: ', num49_52)\n",
    "    print('53_56: ', num53_56)\n",
    "    print('57_60: ', num57_60)\n",
    "    print('61_64: ', num61_64)\n",
    "    print('65_68: ', num65_68)\n",
    "    print('69_72: ', num69_72)\n",
    "    print('73_76: ', num73_76)\n",
    "    print('77_80: ', num77_80)\n",
    " \n",
    "    print('male: ', male)\n",
    "    print('female: ', female)\n",
    "    np.save('data_20.npy', data)"
   ]
  },
  {
   "cell_type": "code",
   "execution_count": 79,
   "metadata": {},
   "outputs": [
    {
     "name": "stderr",
     "output_type": "stream",
     "text": [
      "171674it [06:46, 422.69it/s]\n"
     ]
    },
    {
     "name": "stdout",
     "output_type": "stream",
     "text": [
      "Number of training data\n",
      "1_4:  117\n",
      "5_8:  522\n",
      "9_12:  1806\n",
      "13_16:  3570\n",
      "21_24:  14947\n",
      "29_32:  24242\n",
      "33_36:  22742\n",
      "37_40:  20263\n",
      "41_44:  15821\n",
      "45_48:  12162\n",
      "49_52:  8373\n",
      "53_56:  5677\n",
      "57_60:  4697\n",
      "61_64:  3298\n",
      "65_68:  2185\n",
      "69_72:  1509\n",
      "77_80:  602\n",
      "male:  93379\n",
      "female:  77939\n"
     ]
    }
   ],
   "source": [
    "create_data_20()"
   ]
  },
  {
   "cell_type": "code",
   "execution_count": null,
   "metadata": {},
   "outputs": [],
   "source": []
  }
 ],
 "metadata": {
  "kernelspec": {
   "display_name": "Python 3",
   "language": "python",
   "name": "python3"
  },
  "language_info": {
   "codemirror_mode": {
    "name": "ipython",
    "version": 3
   },
   "file_extension": ".py",
   "mimetype": "text/x-python",
   "name": "python",
   "nbconvert_exporter": "python",
   "pygments_lexer": "ipython3",
   "version": "3.7.4"
  }
 },
 "nbformat": 4,
 "nbformat_minor": 2
}

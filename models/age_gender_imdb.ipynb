{
 "cells": [
  {
   "cell_type": "markdown",
   "metadata": {},
   "source": [
    "# Age-gender model with IMDB data"
   ]
  },
  {
   "cell_type": "markdown",
   "metadata": {
    "id": "Dg1EV2B0STOM"
   },
   "source": [
    "## data"
   ]
  },
  {
   "cell_type": "code",
   "execution_count": null,
   "metadata": {
    "id": "CkBiSzF2sdkX"
   },
   "outputs": [],
   "source": [
    "!pip install git+https://github.com/qubvel/segmentation_models"
   ]
  },
  {
   "cell_type": "code",
   "execution_count": null,
   "metadata": {
    "colab": {
     "base_uri": "https://localhost:8080/"
    },
    "executionInfo": {
     "elapsed": 3989,
     "status": "ok",
     "timestamp": 1619947925815,
     "user": {
      "displayName": "Xi Yang",
      "photoUrl": "",
      "userId": "11820977594968795705"
     },
     "user_tz": -480
    },
    "id": "Ys5L72vsuMYD",
    "outputId": "3f72e29c-2341-4a3b-8cb5-15b251cc1738"
   },
   "outputs": [
    {
     "name": "stdout",
     "output_type": "stream",
     "text": [
      "/content/drive/.shortcut-targets-by-id/15vNI9If7Er0ikh22tgyBff1Q88-gfcL-/3033proj\n"
     ]
    }
   ],
   "source": [
    "cd /content/drive/MyDrive/3033proj"
   ]
  },
  {
   "cell_type": "code",
   "execution_count": null,
   "metadata": {
    "id": "ObWL5EaY7ZGM"
   },
   "outputs": [],
   "source": [
    "import keras\n",
    "import os\n",
    "import numpy as np\n",
    "\n",
    "class Datasets(object):\n",
    "    def __init__(self,data_name):\n",
    "        self.data_name=data_name\n",
    "        self.datasets = self.getData(self)\n",
    "        self.final_data = []\n",
    "        self.convert_data_format()\n",
    "\n",
    "\n",
    "    def gen(self):\n",
    "        # np.random.shuffle(self.final_data)\n",
    "\n",
    "        images = []\n",
    "        age_labels = []\n",
    "        gender_labels = []\n",
    "\n",
    "        for i in range(len(self.final_data)):\n",
    "            image, age, gender = self.final_data[i]\n",
    "            images.append(image)\n",
    "            age_labels.append(age)\n",
    "            gender_labels.append(gender)\n",
    "            \n",
    "        age_labels = keras.utils.to_categorical(age_labels, num_classes=NUM_AGE_CLASSES)\n",
    "        gender_labels = keras.utils.to_categorical(gender_labels, num_classes=NUM_GENDER_CLASSES)\n",
    "        return images, age_labels, gender_labels\n",
    "\n",
    "    @staticmethod\n",
    "    def getData(self):\n",
    "        print('Loading age image...')\n",
    "        # data_3\n",
    "        if self.data_name=='data_3':\n",
    "          data = np.load(os.path.join(os.getcwd(), '/content/drive/MyDrive/3033proj/data_3.npy'), allow_pickle=True) \n",
    "        if self.data_name=='data_5':\n",
    "          data = np.load(os.path.join(os.getcwd(), '/content/drive/MyDrive/3033proj/data_5.npy'), allow_pickle=True) \n",
    "        if self.data_name=='data_10':\n",
    "          data = np.load(os.path.join(os.getcwd(), '/content/drive/MyDrive/3033proj/data_10.npy'), allow_pickle=True)\n",
    "        np.random.shuffle(data)\n",
    "        all_data = []\n",
    "        # random select 20000 data\n",
    "        for i in range(20000):  ### number of samples\n",
    "            all_data.append(data[i])\n",
    "\n",
    "        print('Number of age data:', str(len(all_data)))\n",
    "\n",
    "        return all_data\n",
    "\n",
    "    def convert_data_format(self):\n",
    "        # Age datasets:\n",
    "        for i in range(len(self.datasets)):\n",
    "            image = self.datasets[i][0] / 255.0\n",
    "            age_labels = self.datasets[i][1]\n",
    "            gender_labels = self.datasets[i][2]\n",
    "            self.final_data.append((image, age_labels, gender_labels))"
   ]
  },
  {
   "cell_type": "code",
   "execution_count": null,
   "metadata": {
    "id": "9TP4YWOU3-av"
   },
   "outputs": [],
   "source": [
    "from keras.callbacks import ReduceLROnPlateau, ModelCheckpoint\n",
    "from keras import optimizers\n",
    "from keras.utils.generic_utils import get_custom_objects\n",
    "from keras.layers import GlobalMaxPool2D, Dropout, Dense, Activation, BatchNormalization\n",
    "from keras.models import Model\n",
    "import numpy as np\n",
    "from keras.backend import sigmoid\n",
    "from efficientnet.keras import EfficientNetB4 as NetB4\n",
    "from efficientnet.keras import EfficientNetB4 as NetB5\n",
    "from efficientnet.keras import EfficientNetB4 as NetB6\n",
    "from efficientnet.keras import EfficientNetB4 as NetB7"
   ]
  },
  {
   "cell_type": "markdown",
   "metadata": {
    "id": "o2ovplsA-bjc"
   },
   "source": [
    "## set parameters"
   ]
  },
  {
   "cell_type": "code",
   "execution_count": null,
   "metadata": {
    "id": "HXbZxewl-el_"
   },
   "outputs": [],
   "source": [
    "IMAGE_SIZE = 56\n",
    "BATCH_SIZE = 256\n",
    "WEIGHT_INIT = 0.08\n",
    "NUM_AGE_CLASSES = 3\n",
    "NUM_GENDER_CLASSES = 2\n",
    "DROPOUT_RATE = 0.2\n",
    "input_shape = (IMAGE_SIZE, IMAGE_SIZE, 3)\n",
    "NUM_EPOCHS = 40\n",
    "DECAY_LR_RATE = 0.9"
   ]
  },
  {
   "cell_type": "markdown",
   "metadata": {
    "id": "cvPXt1WhSYFy"
   },
   "source": [
    "## model"
   ]
  },
  {
   "cell_type": "code",
   "execution_count": null,
   "metadata": {
    "id": "JAqXFyND38-z"
   },
   "outputs": [],
   "source": [
    "import pandas as pd\n",
    "class SwishActivation(Activation):\n",
    "    def __init__(self, activation, **kwargs):\n",
    "        super(SwishActivation, self).__init__(activation, **kwargs)\n",
    "        self.__name__ = 'swish_act'\n",
    "\n",
    "def swish_act(x, beta=1):\n",
    "    return x * sigmoid(beta * x)\n",
    "\n",
    "class Efficient_Net(object):\n",
    "    def __init__(self, model_name, data_name, trainable=True):\n",
    "        self.trainable = trainable\n",
    "        self.model_name=model_name\n",
    "        self.data_name=data_name\n",
    "        if self.trainable: \n",
    "            self.train_data = Datasets(data_name=self.data_name)\n",
    "        self.model = self.build_model(self.model_name)\n",
    "\n",
    "        # Compile the model\n",
    "        losses = {\n",
    "            \"age_output\": \"categorical_crossentropy\",\n",
    "            \"gender_output\": \"categorical_crossentropy\"\n",
    "        }\n",
    "\n",
    "        opt = optimizers.Adam(1e-3)\n",
    "        self.model.compile(loss=losses, optimizer=opt, metrics=['acc'])\n",
    "\n",
    "        # Train the part you added\n",
    "        if self.trainable:\n",
    "            self.model.summary()\n",
    "\n",
    "    @staticmethod\n",
    "    def build_age_branch(x):\n",
    "        # Output age branch\n",
    "        predictions_age = Dense(NUM_AGE_CLASSES, activation=\"softmax\", name='age_output')(x)\n",
    "\n",
    "        return predictions_age\n",
    "\n",
    "    @staticmethod\n",
    "    def build_gender_branch(x):\n",
    "        # Output gender branch\n",
    "        predictions_gender = Dense(NUM_GENDER_CLASSES, activation=\"softmax\", name='gender_output')(x)\n",
    "\n",
    "        return predictions_gender\n",
    "\n",
    "    def build_model(self,model_name):\n",
    "        get_custom_objects().update({'swish_act': SwishActivation(swish_act)})\n",
    "\n",
    "        # Model\n",
    "        if model_name=='age_gender_B4':\n",
    "          model = NetB4(weights='imagenet', include_top=False, input_shape=input_shape)\n",
    "        if model_name=='age_gender_B5':\n",
    "          model = NetB5(weights='imagenet', include_top=False, input_shape=input_shape)\n",
    "        if model_name=='age_gender_B6':\n",
    "          model = NetB6(weights='imagenet', include_top=False, input_shape=input_shape)\n",
    "        if model_name=='age_gender_B7':\n",
    "          model = NetB7(weights='imagenet', include_top=False, input_shape=input_shape)\n",
    "        \n",
    "\n",
    "        # Adding 2 fully-connected layers to B4.\n",
    "        x = model.output\n",
    "\n",
    "        x = BatchNormalization()(x)\n",
    "        x = GlobalMaxPool2D(name='gap1')(x)\n",
    "        x = Dropout(DROPOUT_RATE, name='dropout1')(x)\n",
    "\n",
    "        # Output layer\n",
    "        predictions_age = self.build_age_branch(x)\n",
    "        predictions_gender = self.build_gender_branch(x)\n",
    "        model_final = Model(inputs=model.input, outputs=[predictions_age, predictions_gender])\n",
    "\n",
    "        return model_final\n",
    "\n",
    "    def train(self):\n",
    "        # reduce learning rate\n",
    "        reduce_lr = ReduceLROnPlateau(monitor='val_age_output_acc', factor=DECAY_LR_RATE, patience=5, verbose=1, )\n",
    "        # Model Checkpoint\n",
    "\n",
    "        cpt_save = ModelCheckpoint('/content/drive/MyDrive/3033proj/weights/weight_a_g3_B5.h5', save_best_only=True, monitor='val_age_output_acc', mode='max')\n",
    "        print(\"Training......\")\n",
    "\n",
    "        trainX, trainAgeY, trainGenderY = self.train_data.gen()\n",
    "        trainX = np.array(trainX)\n",
    "\n",
    "        history=self.model.fit(trainX, {\"age_output\": trainAgeY, \"gender_output\": trainGenderY}, validation_split=0.2,\n",
    "                       callbacks=reduce_lr, verbose=1, epochs=40, shuffle=True,\n",
    "                       batch_size=256)\n",
    "        \n",
    "        dir ='/content/drive/MyDrive/3033proj/model_log/'\n",
    "        log_path = dir+self.model_name+self.data_name+'_log.csv'\n",
    "        hist = pd.DataFrame(history.history)\n",
    "        hist.to_csv(log_path)"
   ]
  },
  {
   "cell_type": "markdown",
   "metadata": {
    "id": "Uc_QgR9HltK0"
   },
   "source": [
    "## age_gender_B4', 'data_3'\n",
    "\n",
    "\n"
   ]
  },
  {
   "cell_type": "code",
   "execution_count": null,
   "metadata": {
    "id": "JFQPG5gn4ucJ"
   },
   "outputs": [],
   "source": [
    "NUM_AGE_CLASSES=3\n",
    "model = Efficient_Net('age_gender_B4', 'data_3_utk', trainable=True)"
   ]
  },
  {
   "cell_type": "code",
   "execution_count": null,
   "metadata": {
    "id": "AwrxR-bQgXFH"
   },
   "outputs": [],
   "source": [
    "model.train()"
   ]
  },
  {
   "cell_type": "markdown",
   "metadata": {
    "id": "rAlmOy9ZodKR"
   },
   "source": [
    "## age_gender_B5', 'data_3'"
   ]
  },
  {
   "cell_type": "code",
   "execution_count": null,
   "metadata": {
    "id": "ATYzMoYzq9Nx"
   },
   "outputs": [],
   "source": [
    "NUM_AGE_CLASSES=3\n",
    "model = Efficient_Net('age_gender_B5', 'data_3', trainable=True)"
   ]
  },
  {
   "cell_type": "code",
   "execution_count": null,
   "metadata": {
    "id": "GJisOlYAq9jW"
   },
   "outputs": [],
   "source": [
    "model.train()"
   ]
  },
  {
   "cell_type": "markdown",
   "metadata": {
    "id": "H60o1AVlodeL"
   },
   "source": [
    "## age_gender_B6', 'data_3'"
   ]
  },
  {
   "cell_type": "code",
   "execution_count": null,
   "metadata": {
    "id": "0dUzex5SrEdj"
   },
   "outputs": [],
   "source": [
    "NUM_AGE_CLASSES=3\n",
    "model = Efficient_Net('age_gender_B6', 'data_3', trainable=True)"
   ]
  },
  {
   "cell_type": "code",
   "execution_count": null,
   "metadata": {
    "id": "mNG8FIgKrGsj"
   },
   "outputs": [],
   "source": [
    "model.train()"
   ]
  },
  {
   "cell_type": "markdown",
   "metadata": {
    "id": "F34X_uXepG_8"
   },
   "source": [
    "## age_gender_B7', 'data_3'"
   ]
  },
  {
   "cell_type": "code",
   "execution_count": null,
   "metadata": {
    "id": "mqe68wxOrf6t"
   },
   "outputs": [],
   "source": [
    "NUM_AGE_CLASSES=3\n",
    "model = Efficient_Net('age_gender_B7', 'data_3', trainable=True)"
   ]
  },
  {
   "cell_type": "code",
   "execution_count": null,
   "metadata": {
    "id": "I9-ihUEQrj4x"
   },
   "outputs": [],
   "source": [
    "model.train()"
   ]
  },
  {
   "cell_type": "markdown",
   "metadata": {
    "id": "uKLneETzpJ9u"
   },
   "source": [
    "## age_gender_B4', 'data_5'"
   ]
  },
  {
   "cell_type": "code",
   "execution_count": null,
   "metadata": {
    "id": "_WVfJhaVruih"
   },
   "outputs": [],
   "source": [
    "NUM_AGE_CLASSES=5\n",
    "model = Efficient_Net('age_gender_B4', 'data_5', trainable=True)"
   ]
  },
  {
   "cell_type": "code",
   "execution_count": null,
   "metadata": {
    "id": "OHLc5cfMrtr6"
   },
   "outputs": [],
   "source": [
    "model.train()"
   ]
  },
  {
   "cell_type": "markdown",
   "metadata": {
    "id": "di02QA6opKSd"
   },
   "source": [
    "## age_gender_B5', 'data_5'"
   ]
  },
  {
   "cell_type": "code",
   "execution_count": null,
   "metadata": {
    "id": "qY74STLMr-5Z"
   },
   "outputs": [],
   "source": [
    "NUM_AGE_CLASSES=5\n",
    "model = Efficient_Net('age_gender_B5', 'data_5', trainable=True)"
   ]
  },
  {
   "cell_type": "code",
   "execution_count": null,
   "metadata": {
    "id": "5HJEa5f5r9jO"
   },
   "outputs": [],
   "source": [
    "model.train()"
   ]
  },
  {
   "cell_type": "markdown",
   "metadata": {
    "id": "XVbKzSF6pKn1"
   },
   "source": [
    "## age_gender_B6', 'data_5'"
   ]
  },
  {
   "cell_type": "code",
   "execution_count": null,
   "metadata": {
    "id": "lKl2wsJPsB0F"
   },
   "outputs": [],
   "source": [
    "NUM_AGE_CLASSES=5\n",
    "model = Efficient_Net('age_gender_B6', 'data_5', trainable=True)"
   ]
  },
  {
   "cell_type": "code",
   "execution_count": null,
   "metadata": {
    "id": "Q-OmG7jFsAlM"
   },
   "outputs": [],
   "source": [
    "model.train()"
   ]
  },
  {
   "cell_type": "markdown",
   "metadata": {
    "id": "Uxw5jXrlpK9Z"
   },
   "source": [
    "## age_gender_B7', 'data_5'"
   ]
  },
  {
   "cell_type": "code",
   "execution_count": null,
   "metadata": {
    "id": "EH29nhyXsCxK"
   },
   "outputs": [],
   "source": [
    "NUM_AGE_CLASSES=5\n",
    "model = Efficient_Net('age_gender_B7', 'data_5', trainable=True)"
   ]
  },
  {
   "cell_type": "code",
   "execution_count": null,
   "metadata": {
    "id": "omuInsmLtlJN"
   },
   "outputs": [],
   "source": [
    "model.train()"
   ]
  },
  {
   "cell_type": "markdown",
   "metadata": {
    "id": "MxAixKD_pLQ8"
   },
   "source": [
    "## age_gender_B4', 'data_10'"
   ]
  },
  {
   "cell_type": "code",
   "execution_count": null,
   "metadata": {
    "id": "6m3AiyIatnrY"
   },
   "outputs": [],
   "source": [
    "NUM_AGE_CLASSES=10\n",
    "model = Efficient_Net('age_gender_B4', 'data_10', trainable=True)"
   ]
  },
  {
   "cell_type": "code",
   "execution_count": null,
   "metadata": {
    "id": "3dltzLC1toPh"
   },
   "outputs": [],
   "source": [
    "model.train()"
   ]
  },
  {
   "cell_type": "markdown",
   "metadata": {
    "id": "SelnjoWbpLh0"
   },
   "source": [
    "## age_gender_B5', 'data_10'"
   ]
  },
  {
   "cell_type": "code",
   "execution_count": null,
   "metadata": {
    "id": "GBjMqIUrttgT"
   },
   "outputs": [],
   "source": [
    "NUM_AGE_CLASSES=10\n",
    "model = Efficient_Net('age_gender_B5', 'data_10', trainable=True)"
   ]
  },
  {
   "cell_type": "code",
   "execution_count": null,
   "metadata": {
    "id": "DAral8QUtt4q"
   },
   "outputs": [],
   "source": [
    "model.train()"
   ]
  },
  {
   "cell_type": "markdown",
   "metadata": {
    "id": "ICkOlYd-pHOz"
   },
   "source": [
    "## age_gender_B6', 'data_10'"
   ]
  },
  {
   "cell_type": "code",
   "execution_count": null,
   "metadata": {
    "id": "Zsh9Zc19twgG"
   },
   "outputs": [],
   "source": [
    "NUM_AGE_CLASSES=10\n",
    "model = Efficient_Net('age_gender_B6', 'data_10', trainable=True)"
   ]
  },
  {
   "cell_type": "code",
   "execution_count": null,
   "metadata": {
    "id": "lR53WBBjtxE8"
   },
   "outputs": [],
   "source": [
    "model.train()"
   ]
  },
  {
   "cell_type": "markdown",
   "metadata": {
    "id": "4A4yfrRwq6Gp"
   },
   "source": [
    "## age_gender_B7', 'data_10'"
   ]
  },
  {
   "cell_type": "code",
   "execution_count": null,
   "metadata": {
    "id": "4x7WlTpZqX3C"
   },
   "outputs": [],
   "source": [
    "NUM_AGE_CLASSES=10\n",
    "model = Efficient_Net('age_gender_B7', 'data_10', trainable=True)"
   ]
  },
  {
   "cell_type": "code",
   "execution_count": null,
   "metadata": {
    "id": "uP8nWvP0pGXh"
   },
   "outputs": [],
   "source": [
    "model.train()"
   ]
  },
  {
   "cell_type": "code",
   "execution_count": null,
   "metadata": {
    "id": "Z8wf0f1MzPFK"
   },
   "outputs": [],
   "source": []
  }
 ],
 "metadata": {
  "accelerator": "GPU",
  "colab": {
   "authorship_tag": "ABX9TyN3iLHYD+ftVU5V+g87B0a0",
   "collapsed_sections": [],
   "machine_shape": "hm",
   "mount_file_id": "1gkEyoBjALPWIZ-RSOdpRYZTAAAjb5iw_",
   "name": "age_gender_imdb",
   "provenance": [],
   "toc_visible": true
  },
  "kernelspec": {
   "display_name": "Python 3",
   "language": "python",
   "name": "python3"
  },
  "language_info": {
   "codemirror_mode": {
    "name": "ipython",
    "version": 3
   },
   "file_extension": ".py",
   "mimetype": "text/x-python",
   "name": "python",
   "nbconvert_exporter": "python",
   "pygments_lexer": "ipython3",
   "version": "3.7.4"
  }
 },
 "nbformat": 4,
 "nbformat_minor": 1
}
